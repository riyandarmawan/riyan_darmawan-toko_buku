{
    "metadata": {
        "kernelspec": {
            "name": "SQL",
            "display_name": "SQL",
            "language": "sql"
        },
        "language_info": {
            "name": "sql",
            "version": ""
        }
    },
    "nbformat_minor": 2,
    "nbformat": 4,
    "cells": [
        {
            "cell_type": "code",
            "source": [
                "CREATE DATABASE riyan_darmawan_toko_buku;"
            ],
            "metadata": {
                "azdata_cell_guid": "cbe87516-8784-47a6-86bf-310d60a3c1e4",
                "language": "sql"
            },
            "outputs": [
                {
                    "output_type": "display_data",
                    "data": {
                        "text/html": "Commands completed successfully"
                    },
                    "metadata": {}
                },
                {
                    "output_type": "display_data",
                    "data": {
                        "text/html": "Total execution time: 00:00:00.029"
                    },
                    "metadata": {}
                }
            ],
            "execution_count": 1
        },
        {
            "cell_type": "code",
            "source": [
                "USE riyan_darmawan_toko_buku;"
            ],
            "metadata": {
                "azdata_cell_guid": "befaa4b7-084a-4cc2-9d38-d9a710b62e76",
                "language": "sql"
            },
            "outputs": [
                {
                    "output_type": "display_data",
                    "data": {
                        "text/html": "Commands completed successfully"
                    },
                    "metadata": {}
                },
                {
                    "output_type": "display_data",
                    "data": {
                        "text/html": "Total execution time: 00:00:00.009"
                    },
                    "metadata": {}
                }
            ],
            "execution_count": 2
        },
        {
            "cell_type": "code",
            "source": [
                "CREATE TABLE distributor (\r\n",
                "    id INT PRIMARY KEY AUTO_INCREMENT,\r\n",
                "    nama_distributor VARCHAR(100),\r\n",
                "    alamat VARCHAR(255),\r\n",
                "    telepon VARCHAR(13)\r\n",
                ");"
            ],
            "metadata": {
                "azdata_cell_guid": "228c155b-cb41-4be4-9d29-004346470718",
                "language": "sql",
                "tags": []
            },
            "outputs": [
                {
                    "output_type": "display_data",
                    "data": {
                        "text/html": "Commands completed successfully"
                    },
                    "metadata": {}
                },
                {
                    "output_type": "display_data",
                    "data": {
                        "text/html": "Total execution time: 00:00:00.088"
                    },
                    "metadata": {}
                }
            ],
            "execution_count": 3
        },
        {
            "cell_type": "code",
            "source": [
                "CREATE TABLE pasok (\r\n",
                "    id_pasok INT PRIMARY KEY AUTO_INCREMENT,\r\n",
                "    id_distributor INT,\r\n",
                "    tanggal DATE,\r\n",
                "    FOREIGN KEY (id_distributor) REFERENCES distributor(id) ON UPDATE CASCADE ON DELETE CASCADE\r\n",
                ");"
            ],
            "metadata": {
                "azdata_cell_guid": "e5a16caa-e5ea-400b-a35b-25e3e079af0f",
                "language": "sql"
            },
            "outputs": [
                {
                    "output_type": "display_data",
                    "data": {
                        "text/html": "Commands completed successfully"
                    },
                    "metadata": {}
                },
                {
                    "output_type": "display_data",
                    "data": {
                        "text/html": "Total execution time: 00:00:00.130"
                    },
                    "metadata": {}
                }
            ],
            "execution_count": 4
        },
        {
            "cell_type": "code",
            "source": [
                "CREATE TABLE buku (\r\n",
                "    id_buku INT PRIMARY KEY AUTO_INCREMENT,\r\n",
                "    judul VARCHAR(100),\r\n",
                "    penulis VARCHAR(100),\r\n",
                "    penerbit VARCHAR(100),\r\n",
                "    tahun_terbit YEAR,\r\n",
                "    stok TINYINT,\r\n",
                "    harga_pokok BIGINT,\r\n",
                "    harga_jual BIGINT,\r\n",
                "    diskon BIGINT\r\n",
                ");"
            ],
            "metadata": {
                "azdata_cell_guid": "301fb1bb-8ee1-490d-a544-949d150f06dc",
                "language": "sql"
            },
            "outputs": [
                {
                    "output_type": "display_data",
                    "data": {
                        "text/html": "Commands completed successfully"
                    },
                    "metadata": {}
                },
                {
                    "output_type": "display_data",
                    "data": {
                        "text/html": "Total execution time: 00:00:00.014"
                    },
                    "metadata": {}
                }
            ],
            "execution_count": 5
        },
        {
            "cell_type": "code",
            "source": [
                "CREATE TABLE detail_pasok (\r\n",
                "    id BIGINT PRIMARY KEY AUTO_INCREMENT,\r\n",
                "    id_pasok INT,\r\n",
                "    id_buku INT,\r\n",
                "    jumlah TINYINT,\r\n",
                "    FOREIGN KEY (id_pasok) REFERENCES pasok(id_pasok) ON UPDATE CASCADE ON DELETE CASCADE,\r\n",
                "    FOREIGN KEY (id_buku) REFERENCES buku(id_buku) ON UPDATE CASCADE ON DELETE CASCADE\r\n",
                ");"
            ],
            "metadata": {
                "azdata_cell_guid": "50509b30-feac-4afd-b876-46e4791357ad",
                "language": "sql"
            },
            "outputs": [
                {
                    "output_type": "display_data",
                    "data": {
                        "text/html": "Commands completed successfully"
                    },
                    "metadata": {}
                },
                {
                    "output_type": "display_data",
                    "data": {
                        "text/html": "Total execution time: 00:00:00.583"
                    },
                    "metadata": {}
                }
            ],
            "execution_count": 6
        },
        {
            "cell_type": "code",
            "source": [
                "CREATE TABLE kasir (\r\n",
                "    id_kasir INT PRIMARY KEY AUTO_INCREMENT,\r\n",
                "    nama VARCHAR(100),\r\n",
                "    alamat VARCHAR(100),\r\n",
                "    telepon VARCHAR(100),\r\n",
                "    username VARCHAR(100),\r\n",
                "    password VARCHAR(255),\r\n",
                "    akses ENUM('admin', 'kasir')\r\n",
                ");"
            ],
            "metadata": {
                "azdata_cell_guid": "dc7fae50-ec18-4441-87ca-f632fddcd28e",
                "language": "sql"
            },
            "outputs": [
                {
                    "output_type": "display_data",
                    "data": {
                        "text/html": "Commands completed successfully"
                    },
                    "metadata": {}
                },
                {
                    "output_type": "display_data",
                    "data": {
                        "text/html": "Total execution time: 00:00:00.028"
                    },
                    "metadata": {}
                }
            ],
            "execution_count": 7
        },
        {
            "cell_type": "code",
            "source": [
                "CREATE TABLE penjualan (\r\n",
                "    id_penjualan INT PRIMARY KEY AUTO_INCREMENT,\r\n",
                "    id_kasir INT,\r\n",
                "    tanggal DATE,\r\n",
                "    total BIGINT,\r\n",
                "    FOREIGN KEY (id_kasir) REFERENCES kasir(id_kasir) ON UPDATE CASCADE ON DELETE CASCADE\r\n",
                ");"
            ],
            "metadata": {
                "azdata_cell_guid": "d16702e2-ee8c-44c3-b1aa-6a9b56d4b336",
                "language": "sql"
            },
            "outputs": [
                {
                    "output_type": "display_data",
                    "data": {
                        "text/html": "Commands completed successfully"
                    },
                    "metadata": {}
                },
                {
                    "output_type": "display_data",
                    "data": {
                        "text/html": "Total execution time: 00:00:00.074"
                    },
                    "metadata": {}
                }
            ],
            "execution_count": 8
        },
        {
            "cell_type": "code",
            "source": [
                "CREATE TABLE detail_penjualan (\r\n",
                "    id BIGINT PRIMARY KEY AUTO_INCREMENT,\r\n",
                "    id_penjualan INT,\r\n",
                "    id_buku INT,\r\n",
                "    jumlah TINYINT,\r\n",
                "    FOREIGN KEY (id_penjualan) REFERENCES penjualan(id_penjualan) ON UPDATE CASCADE ON DELETE CASCADE,\r\n",
                "    FOREIGN KEY (id_buku) REFERENCES buku(id_buku) ON UPDATE CASCADE ON DELETE CASCADE\r\n",
                ");"
            ],
            "metadata": {
                "azdata_cell_guid": "0f167c48-3ed5-4a72-b7fe-cfb3f044568b",
                "language": "sql"
            },
            "outputs": [
                {
                    "output_type": "display_data",
                    "data": {
                        "text/html": "Commands completed successfully"
                    },
                    "metadata": {}
                },
                {
                    "output_type": "display_data",
                    "data": {
                        "text/html": "Total execution time: 00:00:00.041"
                    },
                    "metadata": {}
                }
            ],
            "execution_count": 9
        },
        {
            "cell_type": "code",
            "source": [
                "INSERT INTO kasir(nama, alamat, telepon, username, password, akses) VALUES\r\n",
                "('kasir', 'kasir', 'kasir','kasir', 'kasir', 'kasir');"
            ],
            "metadata": {
                "azdata_cell_guid": "2e154004-e7f8-4951-bca8-cbf7fc7b0dfc",
                "language": "sql"
            },
            "outputs": [
                {
                    "output_type": "display_data",
                    "data": {
                        "text/html": "Commands completed successfully"
                    },
                    "metadata": {}
                },
                {
                    "output_type": "display_data",
                    "data": {
                        "text/html": "Total execution time: 00:00:00.010"
                    },
                    "metadata": {}
                }
            ],
            "execution_count": 10
        },
        {
            "cell_type": "code",
            "source": [
                "insert into kasir\r\n",
                "(nama,alamat,telepon,username,password,akses) \r\n",
                "values\r\n",
                "('Ahmad Soleh','Citalang','0812839912','ahmad','1234','admin');"
            ],
            "metadata": {
                "azdata_cell_guid": "011c1036-9647-4edb-842e-b9da0435b7ad",
                "language": "sql"
            },
            "outputs": [
                {
                    "output_type": "display_data",
                    "data": {
                        "text/html": "Commands completed successfully"
                    },
                    "metadata": {}
                },
                {
                    "output_type": "display_data",
                    "data": {
                        "text/html": "Total execution time: 00:00:00.113"
                    },
                    "metadata": {}
                }
            ],
            "execution_count": 3
        },
        {
            "cell_type": "code",
            "source": [
                "INSERT INTO buku (id_buku, judul, penulis, penerbit, tahun_terbit, stok, harga_pokok, harga_jual, diskon) VALUES\r\n",
                "\t('1', 'Honorable', 'Kendricks Fritschel', 'Dynabox', '2004', '16', '88139', '110173', '2724'),\r\n",
                "\t('2', 'Rev', 'Ashlee Buxton', 'Yata', '1928', '5', '180472', '225590', '2759'),\r\n",
                "\t('3', 'Rev', 'Goraud Lisciardelli', 'Voonder', '2002', '20', '61560', '76950', '7536'),\r\n",
                "\t('4', 'Dr', 'Rubia O\\'Mohun', 'Eare', '1918', '23', '101799', '127248', '1637'),\r\n",
                "\t('5', 'Mr', 'Devina Bertenshaw', 'Feedspan', '2005', '9', '135352', '169190', '6331'),\r\n",
                "\t('6', 'Mr', 'Arvy Dufaire', 'Feedspan', '1981', '7', '166350', '207937', '5354'),\r\n",
                "\t('7', 'Honorable', 'Fair Ludmann', 'Kimia', '1942', '12', '112926', '141157', '3754'),\r\n",
                "\t('8', 'Mr', 'Vlad Malinowski', 'Npath', '1906', '16', '182225', '227781', '4601'),\r\n",
                "\t('9', 'Ms', 'Welby Batchelor', 'Eabox', '2012', '24', '156010', '195012', '4044'),\r\n",
                "\t('10', 'Ms', 'Pepito Fairman', 'Wikizz', '1947', '16', '100506', '125632', '7702'),\r\n",
                "\t('11', 'Dr', 'Giff Holdall', 'Zoozzy', '1928', '8', '124179', '155223', '3318'),\r\n",
                "\t('12', 'Dr', 'Keen Sworn', 'Rhynoodle', '1993', '4', '196053', '245066', '8403'),\r\n",
                "\t('13', 'Ms', 'Joshua O\\'Sesnane', 'Yabox', '1984', '5', '121895', '152368', '3338'),\r\n",
                "\t('14', 'Mr', 'Moe Jakubiak', 'Innojam', '2021', '25', '76094', '95117', '3296'),\r\n",
                "\t('15', 'Rev', 'Launce Leatt', 'Eamia', '1923', '14', '141269', '176586', '3519'),\r\n",
                "\t('16', 'Rev', 'Tori Jeens', 'Flashdog', '1932', '23', '173897', '217371', '1119'),\r\n",
                "\t('17', 'Mrs', 'Barrett Theaker', 'Geba', '1982', '8', '190302', '237877', '9994'),\r\n",
                "\t('18', 'Rev', 'Nicola Manby', 'Innojam', '1955', '14', '171405', '214256', '2913'),\r\n",
                "\t('19', 'Mrs', 'Vitia Garlic', 'Flashpoint', '1999', '9', '188588', '235735', '2500'),\r\n",
                "\t('20', 'Mrs', 'Devondra Pringour', 'Dynazzy', '1957', '25', '53337', '66671', '8029'),\r\n",
                "\t('21', 'Mrs', 'Pip Ferroni', 'Zoomcast', '1925', '25', '72693', '90866', '4341'),\r\n",
                "\t('22', 'Mrs', 'Clay Broun', 'Devpulse', '1925', '4', '157574', '196967', '4665'),\r\n",
                "\t('23', 'Rev', 'Adah Wabersich', 'Topicstorm', '2011', '13', '109170', '136462', '7209'),\r\n",
                "\t('24', 'Mr', 'Derek Cramer', 'Thoughtmix', '1963', '21', '50381', '62976', '1563'),\r\n",
                "\t('25', 'Mr', 'Zacherie Vennart', 'Blogtags', '1919', '10', '55317', '69146', '9856'),\r\n",
                "\t('26', 'Honorable', 'Tabbie Junifer', 'Skyndu', '1962', '24', '62369', '77961', '3164'),\r\n",
                "\t('27', 'Ms', 'Lovell Rickell', 'Wordware', '2006', '25', '90045', '112556', '6313'),\r\n",
                "\t('28', 'Ms', 'Ezri Irving', 'Skippad', '1959', '20', '125359', '156698', '3145'),\r\n",
                "\t('29', 'Honorable', 'Sarajane Phoenix', 'Meemm', '2006', '18', '93703', '117128', '8409'),\r\n",
                "\t('30', 'Honorable', 'Ardene Stuttard', 'Quimba', '1906', '13', '67212', '84015', '9429'),\r\n",
                "\t('31', 'Mrs', 'Mattie De Benedictis', 'Jaxbean', '2014', '14', '81702', '102127', '6984'),\r\n",
                "\t('32', 'Mr', 'Aarika Turpey', 'Dynazzy', '1942', '14', '139135', '173918', '8079'),\r\n",
                "\t('33', 'Dr', 'Rouvin Scarlett', 'Wikibox', '1929', '21', '84678', '105847', '2724'),\r\n",
                "\t('34', 'Ms', 'Mandel Kluge', 'Voomm', '1986', '14', '91642', '114552', '7576'),\r\n",
                "\t('35', 'Honorable', 'Newton Dunkerly', 'Devpoint', '1909', '8', '95362', '119202', '2325'),\r\n",
                "\t('36', 'Mrs', 'Benedikt Blunkett', 'Brainbox', '1923', '19', '97950', '122437', '2064'),\r\n",
                "\t('37', 'Mrs', 'Prisca Satteford', 'Einti', '1989', '22', '161115', '201393', '7309'),\r\n",
                "\t('38', 'Mr', 'Aldrich Coules', 'Devpulse', '2007', '23', '97097', '121371', '5494'),\r\n",
                "\t('39', 'Ms', 'Averill Dreini', 'Latz', '2000', '13', '160508', '200635', '7804'),\r\n",
                "\t('40', 'Honorable', 'Ysabel Dowderswell', 'Katz', '1978', '23', '154555', '193193', '1985'),\r\n",
                "\t('41', 'Mr', 'Wes Malarkey', 'Yakijo', '1926', '10', '74830', '93537', '2417'),\r\n",
                "\t('42', 'Dr', 'Katinka Aumerle', 'Shufflebeat', '2000', '6', '146783', '183478', '4028'),\r\n",
                "\t('43', 'Mrs', 'Costanza Kilgour', 'Tagchat', '2016', '21', '106710', '133387', '3885'),\r\n",
                "\t('44', 'Dr', 'Lillian Ellis', 'Podcat', '1990', '8', '121659', '152073', '8000'),\r\n",
                "\t('45', 'Mr', 'Ruthi Sneller', 'Quire', '1919', '25', '88613', '110766', '8988'),\r\n",
                "\t('46', 'Honorable', 'Francois Aslett', 'Katz', '1918', '25', '188773', '235966', '3951'),\r\n",
                "\t('47', 'Ms', 'Isis Gregorin', 'Divanoodle', '1926', '7', '126808', '158510', '6416'),\r\n",
                "\t('48', 'Rev', 'Kial De Paoli', 'Twitterlist', '1901', '21', '159822', '199777', '7232'),\r\n",
                "\t('49', 'Rev', 'Waldemar Fedder', 'Photospace', '1929', '19', '160633', '200791', '6611'),\r\n",
                "\t('50', 'Rev', 'Sibyl Kennady', 'Realbridge', '1914', '19', '97353', '121691', '5014'),\r\n",
                "\t('51', 'Ms', 'Gael Najera', 'Edgeify', '1970', '22', '53718', '67147', '3286'),\r\n",
                "\t('52', 'Mrs', 'Diann Oldnall', 'Jabberstorm', '1936', '9', '151263', '189078', '4951'),\r\n",
                "\t('53', 'Mrs', 'Merlina Pestell', 'Yotz', '1966', '15', '70227', '87783', '2534'),\r\n",
                "\t('54', 'Rev', 'Durward Beard', 'Flipstorm', '2015', '19', '97128', '121410', '8367'),\r\n",
                "\t('55', 'Dr', 'Andrew Brimblecombe', 'Mybuzz', '1981', '11', '199327', '249158', '3955'),\r\n",
                "\t('56', 'Ms', 'Reginald Reichelt', 'Fadeo', '1939', '17', '98834', '123542', '6064'),\r\n",
                "\t('57', 'Mr', 'Yule Fuente', 'Mymm', '2019', '20', '94495', '118118', '7335'),\r\n",
                "\t('58', 'Honorable', 'Jeralee Vasquez', 'Topiczoom', '2005', '25', '168138', '210172', '7972'),\r\n",
                "\t('59', 'Mr', 'Sean Halso', 'Thoughtbridge', '1957', '23', '192965', '241206', '3986'),\r\n",
                "\t('60', 'Rev', 'Blithe Spreckley', 'Gabcube', '1939', '25', '126514', '158142', '8208'),\r\n",
                "\t('61', 'Rev', 'Emmalee Reisenstein', 'Wikizz', '2010', '9', '143420', '179275', '7237'),\r\n",
                "\t('62', 'Mr', 'Maisey Merck', 'Katz', '1953', '10', '74171', '92713', '9218'),\r\n",
                "\t('63', 'Mr', 'Leon Hardern', 'Browsezoom', '1946', '13', '66055', '82568', '6078'),\r\n",
                "\t('64', 'Mrs', 'Samson Dayment', 'Dabjam', '1983', '23', '140337', '175421', '1369'),\r\n",
                "\t('65', 'Dr', 'Barty Heatly', 'Plajo', '1918', '23', '87538', '109422', '9986'),\r\n",
                "\t('66', 'Rev', 'Ursulina Learoyd', 'Tanoodle', '1918', '14', '137557', '171946', '5540'),\r\n",
                "\t('67', 'Dr', 'Analise Abramovitz', 'Edgewire', '1932', '23', '156818', '196022', '9717'),\r\n",
                "\t('68', 'Ms', 'Tarah Pottberry', 'Realpoint', '1938', '21', '131258', '164072', '7191'),\r\n",
                "\t('69', 'Mr', 'Shandie Punch', 'Kaymbo', '1983', '15', '159098', '198872', '7279'),\r\n",
                "\t('70', 'Mr', 'Kristofor Riley', 'Centimia', '1974', '4', '128382', '160477', '1347'),\r\n",
                "\t('71', 'Dr', 'Shanie Aldcorne', 'Twitternation', '1925', '23', '55792', '69740', '7115'),\r\n",
                "\t('72', 'Honorable', 'Suzann Campkin', 'Voomm', '2003', '11', '192302', '240377', '6639'),\r\n",
                "\t('73', 'Mrs', 'Jacklin Imlock', 'Skilith', '1996', '14', '136359', '170448', '9396'),\r\n",
                "\t('74', 'Dr', 'Bibbie Isley', 'Skinder', '1935', '18', '161896', '202370', '1220'),\r\n",
                "\t('75', 'Dr', 'Thomasine Valentino', 'InnoZ', '1925', '24', '190942', '238677', '1456'),\r\n",
                "\t('76', 'Mrs', 'Gage Dragge', 'Mudo', '1959', '11', '195342', '244177', '7374'),\r\n",
                "\t('77', 'Dr', 'Rebeka Tubbs', 'Rooxo', '1985', '19', '176263', '220328', '5222'),\r\n",
                "\t('78', 'Rev', 'Timothee Ebdon', 'Dabjam', '1984', '22', '94658', '118322', '5354'),\r\n",
                "\t('79', 'Rev', 'Sandra Robson', 'Devcast', '1917', '17', '57094', '71367', '1165'),\r\n",
                "\t('80', 'Dr', 'Benoite Dumigan', 'Meezzy', '1941', '24', '155775', '194718', '9499'),\r\n",
                "\t('81', 'Honorable', 'Erl Swinfen', 'Meejo', '1982', '6', '193702', '242127', '4006'),\r\n",
                "\t('82', 'Honorable', 'Neala Curr', 'Yata', '1935', '6', '158518', '198147', '4338'),\r\n",
                "\t('83', 'Mr', 'Liesa Marle', 'Skyndu', '1914', '15', '148678', '185847', '7236'),\r\n",
                "\t('84', 'Rev', 'Marya Jeanon', 'Yozio', '1933', '11', '91002', '113752', '4061'),\r\n",
                "\t('85', 'Rev', 'Reinhard Aujean', 'Dabshots', '1973', '11', '153186', '191482', '1657'),\r\n",
                "\t('86', 'Rev', 'Vladamir Keys', 'Skidoo', '2018', '24', '52356', '65445', '4395'),\r\n",
                "\t('87', 'Mrs', 'Carlota Hought', 'Meembee', '1917', '10', '93826', '117282', '3252'),\r\n",
                "\t('88', 'Mrs', 'Rosanne Gotcher', 'Vimbo', '1941', '25', '125807', '157258', '1538'),\r\n",
                "\t('89', 'Dr', 'Katherina Ackerman', 'Kwilith', '1905', '21', '90097', '112621', '3949'),\r\n",
                "\t('90', 'Mrs', 'Wenda Rein', 'Mybuzz', '1968', '12', '69736', '87170', '6538'),\r\n",
                "\t('91', 'Mrs', 'Hedwiga Pirazzi', 'Talane', '1939', '13', '79484', '99355', '3971'),\r\n",
                "\t('92', 'Ms', 'Agneta Sempill', 'Demizz', '1917', '20', '137965', '172456', '4901'),\r\n",
                "\t('93', 'Honorable', 'Reinald Huthart', 'Voolith', '1912', '21', '151068', '188835', '1874'),\r\n",
                "\t('94', 'Rev', 'Pamelina Schroter', 'Divanoodle', '1944', '17', '73952', '92440', '8182'),\r\n",
                "\t('95', 'Ms', 'Karrah Trubshawe', 'Photobug', '1923', '22', '142572', '178215', '3251'),\r\n",
                "\t('96', 'Honorable', 'Rockwell Anfrey', 'Yakijo', '1965', '14', '102773', '128466', '5861'),\r\n",
                "\t('97', 'Rev', 'Ophelie Gudde', 'Oyope', '1994', '18', '101918', '127397', '3246'),\r\n",
                "\t('98', 'Mrs', 'Stella Britner', 'Jamia', '1940', '7', '104465', '130581', '3303'),\r\n",
                "\t('99', 'Mr', 'Birch Cod', 'Brightdog', '1910', '6', '66603', '83253', '2492'),\r\n",
                "\t('100', 'Mrs', 'Karla Burtenshaw', 'Zoomdog', '1964', '19', '59270', '74087', '1845');"
            ],
            "metadata": {
                "azdata_cell_guid": "2ee5e548-1a10-41a1-b3a9-ce47c7689a95",
                "language": "sql"
            },
            "outputs": [
{
    "output_type": "display_data",
    "data": {
        "text/html": "Commands completed successfully"
    },
    "metadata": {}
}, {
    "output_type": "display_data",
    "data": {
        "text/html": "Total execution time: 00:00:04.389"
    },
    "metadata": {}
}
],
            "execution_count": 4
        }
    ]
}