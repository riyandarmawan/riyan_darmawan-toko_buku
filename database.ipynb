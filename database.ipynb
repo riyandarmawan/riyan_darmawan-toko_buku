{
    "metadata": {
        "kernelspec": {
            "name": "SQL",
            "display_name": "SQL",
            "language": "sql"
        },
        "language_info": {
            "name": "sql",
            "version": ""
        }
    },
    "nbformat_minor": 2,
    "nbformat": 4,
    "cells": [
        {
            "cell_type": "code",
            "source": [
                "CREATE DATABASE riyan_darmawan_toko_buku;"
            ],
            "metadata": {
                "azdata_cell_guid": "cbe87516-8784-47a6-86bf-310d60a3c1e4",
                "language": "sql"
            },
            "outputs": [
                {
                    "output_type": "display_data",
                    "data": {
                        "text/html": "Commands completed successfully"
                    },
                    "metadata": {}
                },
                {
                    "output_type": "display_data",
                    "data": {
                        "text/html": "Total execution time: 00:00:00.053"
                    },
                    "metadata": {}
                }
            ],
            "execution_count": 1
        },
        {
            "cell_type": "code",
            "source": [
                "USE riyan_darmawan_toko_buku;"
            ],
            "metadata": {
                "azdata_cell_guid": "befaa4b7-084a-4cc2-9d38-d9a710b62e76",
                "language": "sql"
            },
            "outputs": [
                {
                    "output_type": "display_data",
                    "data": {
                        "text/html": "Commands completed successfully"
                    },
                    "metadata": {}
                },
                {
                    "output_type": "display_data",
                    "data": {
                        "text/html": "Total execution time: 00:00:00.045"
                    },
                    "metadata": {}
                }
            ],
            "execution_count": 2
        },
        {
            "cell_type": "code",
            "source": [
                "CREATE TABLE distributor (\r\n",
                "    id INT PRIMARY KEY AUTO_INCREMENT,\r\n",
                "    nama_distributor VARCHAR(100),\r\n",
                "    alamat VARCHAR(255),\r\n",
                "    telepon VARCHAR(13)\r\n",
                ");"
            ],
            "metadata": {
                "azdata_cell_guid": "228c155b-cb41-4be4-9d29-004346470718",
                "language": "sql",
                "tags": []
            },
            "outputs": [
                {
                    "output_type": "display_data",
                    "data": {
                        "text/html": "Commands completed successfully"
                    },
                    "metadata": {}
                },
                {
                    "output_type": "display_data",
                    "data": {
                        "text/html": "Total execution time: 00:00:00.153"
                    },
                    "metadata": {}
                }
            ],
            "execution_count": 3
        },
        {
            "cell_type": "code",
            "source": [
                "CREATE TABLE pasok (\r\n",
                "    id_pasok INT PRIMARY KEY AUTO_INCREMENT,\r\n",
                "    id_distributor INT,\r\n",
                "    tanggal DATE,\r\n",
                "    FOREIGN KEY (id_distributor) REFERENCES distributor(id) ON UPDATE CASCADE ON DELETE CASCADE\r\n",
                ");"
            ],
            "metadata": {
                "azdata_cell_guid": "e5a16caa-e5ea-400b-a35b-25e3e079af0f",
                "language": "sql"
            },
            "outputs": [
                {
                    "output_type": "display_data",
                    "data": {
                        "text/html": "Commands completed successfully"
                    },
                    "metadata": {}
                },
                {
                    "output_type": "display_data",
                    "data": {
                        "text/html": "Total execution time: 00:00:00.120"
                    },
                    "metadata": {}
                }
            ],
            "execution_count": 4
        },
        {
            "cell_type": "code",
            "source": [
                "CREATE TABLE buku (\r\n",
                "    id_buku INT PRIMARY KEY AUTO_INCREMENT,\r\n",
                "    judul VARCHAR(100),\r\n",
                "    penulis VARCHAR(100),\r\n",
                "    penerbit VARCHAR(100),\r\n",
                "    tahun_terbit YEAR,\r\n",
                "    stok TINYINT,\r\n",
                "    harga_pokok BIGINT,\r\n",
                "    harga_jual BIGINT,\r\n",
                "    diskon BIGINT\r\n",
                ");"
            ],
            "metadata": {
                "azdata_cell_guid": "301fb1bb-8ee1-490d-a544-949d150f06dc",
                "language": "sql"
            },
            "outputs": [
                {
                    "output_type": "display_data",
                    "data": {
                        "text/html": "Commands completed successfully"
                    },
                    "metadata": {}
                },
                {
                    "output_type": "display_data",
                    "data": {
                        "text/html": "Total execution time: 00:00:00.039"
                    },
                    "metadata": {}
                }
            ],
            "execution_count": 5
        },
        {
            "cell_type": "code",
            "source": [
                "CREATE TABLE detail_pasok (\r\n",
                "    id BIGINT PRIMARY KEY AUTO_INCREMENT,\r\n",
                "    id_pasok INT,\r\n",
                "    id_buku INT,\r\n",
                "    jumlah TINYINT,\r\n",
                "    FOREIGN KEY (id_pasok) REFERENCES pasok(id_pasok) ON UPDATE CASCADE ON DELETE CASCADE,\r\n",
                "    FOREIGN KEY (id_buku) REFERENCES buku(id_buku) ON UPDATE CASCADE ON DELETE CASCADE\r\n",
                ");"
            ],
            "metadata": {
                "azdata_cell_guid": "50509b30-feac-4afd-b876-46e4791357ad",
                "language": "sql"
            },
            "outputs": [
                {
                    "output_type": "display_data",
                    "data": {
                        "text/html": "Commands completed successfully"
                    },
                    "metadata": {}
                },
                {
                    "output_type": "display_data",
                    "data": {
                        "text/html": "Total execution time: 00:00:00.224"
                    },
                    "metadata": {}
                }
            ],
            "execution_count": 6
        },
        {
            "cell_type": "code",
            "source": [
                "CREATE TABLE kasir (\r\n",
                "    id_kasir INT PRIMARY KEY AUTO_INCREMENT,\r\n",
                "    nama VARCHAR(100),\r\n",
                "    alamat VARCHAR(100),\r\n",
                "    telepon VARCHAR(100),\r\n",
                "    username VARCHAR(100),\r\n",
                "    password VARCHAR(255),\r\n",
                "    akses ENUM('admin', 'kasir')\r\n",
                ");"
            ],
            "metadata": {
                "azdata_cell_guid": "dc7fae50-ec18-4441-87ca-f632fddcd28e",
                "language": "sql"
            },
            "outputs": [
                {
                    "output_type": "display_data",
                    "data": {
                        "text/html": "Commands completed successfully"
                    },
                    "metadata": {}
                },
                {
                    "output_type": "display_data",
                    "data": {
                        "text/html": "Total execution time: 00:00:00.037"
                    },
                    "metadata": {}
                }
            ],
            "execution_count": 7
        },
        {
            "cell_type": "code",
            "source": [
                "CREATE TABLE penjualan (\r\n",
                "    id_penjualan INT PRIMARY KEY AUTO_INCREMENT,\r\n",
                "    id_kasir INT,\r\n",
                "    tanggal DATE,\r\n",
                "    total BIGINT,\r\n",
                "    FOREIGN KEY (id_kasir) REFERENCES kasir(id_kasir) ON UPDATE CASCADE ON DELETE CASCADE\r\n",
                ");"
            ],
            "metadata": {
                "azdata_cell_guid": "d16702e2-ee8c-44c3-b1aa-6a9b56d4b336",
                "language": "sql"
            },
            "outputs": [
                {
                    "output_type": "display_data",
                    "data": {
                        "text/html": "Commands completed successfully"
                    },
                    "metadata": {}
                },
                {
                    "output_type": "display_data",
                    "data": {
                        "text/html": "Total execution time: 00:00:00.090"
                    },
                    "metadata": {}
                }
            ],
            "execution_count": 8
        },
        {
            "cell_type": "code",
            "source": [
                "CREATE TABLE detail_penjualan (\r\n",
                "    id BIGINT PRIMARY KEY AUTO_INCREMENT,\r\n",
                "    id_penjualan INT,\r\n",
                "    id_buku INT,\r\n",
                "    jumlah TINYINT,\r\n",
                "    FOREIGN KEY (id_penjualan) REFERENCES penjualan(id_penjualan) ON UPDATE CASCADE ON DELETE CASCADE,\r\n",
                "    FOREIGN KEY (id_buku) REFERENCES buku(id_buku) ON UPDATE CASCADE ON DELETE CASCADE\r\n",
                ");"
            ],
            "metadata": {
                "azdata_cell_guid": "0f167c48-3ed5-4a72-b7fe-cfb3f044568b",
                "language": "sql"
            },
            "outputs": [
                {
                    "output_type": "display_data",
                    "data": {
                        "text/html": "Commands completed successfully"
                    },
                    "metadata": {}
                },
                {
                    "output_type": "display_data",
                    "data": {
                        "text/html": "Total execution time: 00:00:00.116"
                    },
                    "metadata": {}
                }
            ],
            "execution_count": 9
        },
        {
            "cell_type": "code",
            "source": [
                "INSERT INTO kasir(nama, alamat, telepon, username, password, akses) VALUES\r\n",
                "('kasir', 'kasir', 'kasir','kasir', 'kasir', 'kasir');"
            ],
            "metadata": {
                "azdata_cell_guid": "2e154004-e7f8-4951-bca8-cbf7fc7b0dfc",
                "language": "sql"
            },
            "outputs": [
                {
                    "output_type": "display_data",
                    "data": {
                        "text/html": "Commands completed successfully"
                    },
                    "metadata": {}
                },
                {
                    "output_type": "display_data",
                    "data": {
                        "text/html": "Total execution time: 00:00:00.033"
                    },
                    "metadata": {}
                }
            ],
            "execution_count": 10
        }
    ]
}